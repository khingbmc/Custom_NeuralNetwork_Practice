{
 "cells": [
  {
   "cell_type": "code",
   "execution_count": 54,
   "metadata": {},
   "outputs": [
    {
     "name": "stdout",
     "output_type": "stream",
     "text": [
      "       x    y    z    w            class\n",
      "36   5.5  3.5  1.3  0.2      Iris-setosa\n",
      "35     5  3.2  1.2  0.2      Iris-setosa\n",
      "14   5.8    4  1.2  0.2      Iris-setosa\n",
      "14   5.8    4  1.2  0.2      Iris-setosa\n",
      "29   4.7  3.2  1.6  0.2      Iris-setosa\n",
      "5    5.4  3.9  1.7  0.4      Iris-setosa\n",
      "11   4.8  3.4  1.6  0.2      Iris-setosa\n",
      "27   5.2  3.5  1.5  0.2      Iris-setosa\n",
      "47   4.6  3.2  1.4  0.2      Iris-setosa\n",
      "31   5.4  3.4  1.5  0.4      Iris-setosa\n",
      "109  7.2  3.6  6.1  2.5   Iris-virginica\n",
      "119    6  2.2    5  1.5   Iris-virginica\n",
      "149  5.9    3  5.1  1.8   Iris-virginica\n",
      "101  5.8  2.7  5.1  1.9   Iris-virginica\n",
      "112  6.8    3  5.5  2.1   Iris-virginica\n",
      "119    6  2.2    5  1.5   Iris-virginica\n",
      "109  7.2  3.6  6.1  2.5   Iris-virginica\n",
      "111  6.4  2.7  5.3  1.9   Iris-virginica\n",
      "125  7.2  3.2    6  1.8   Iris-virginica\n",
      "111  6.4  2.7  5.3  1.9   Iris-virginica\n",
      "93     5  2.3  3.3    1  Iris-versicolor\n",
      "61   5.9    3  4.2  1.5  Iris-versicolor\n",
      "55   5.7  2.8  4.5  1.3  Iris-versicolor\n",
      "93     5  2.3  3.3    1  Iris-versicolor\n",
      "66   5.6    3  4.5  1.5  Iris-versicolor\n",
      "50     7  3.2  4.7  1.4  Iris-versicolor\n",
      "81   5.5  2.4  3.7    1  Iris-versicolor\n",
      "58   6.6  2.9  4.6  1.3  Iris-versicolor\n",
      "90   5.5  2.6  4.4  1.2  Iris-versicolor\n",
      "92   5.8  2.6    4  1.2  Iris-versicolor\n"
     ]
    }
   ],
   "source": [
    "#Library\n",
    "import pandas as pd\n",
    "import math\n",
    "\n",
    "from sklearn.utils import shuffle\n",
    "from random import random\n",
    "from random import randint\n",
    "\n",
    "\n",
    "\n",
    "\n",
    "def prepareData(filename, number_node_input, number_node_hidden, learning_rate):\n",
    "\n",
    "# %% Data Import and Preparation\n",
    "# Data Import\n",
    "    dataFrame = pd.read_csv(\"../dataFile/%s.csv\" %(filename))\n",
    "\n",
    "    number_node_output = len(set(dataFrame['class']))\n",
    "    set_of_class = list(set(dataFrame['class']))\n",
    "    number_row_each_class = [len(dataFrame[dataFrame['class'] == x]) for x in set_of_class]\n",
    "\n",
    "# Data Prepare\n",
    "#Finding max min of value in each class\n",
    "    max_min_value = {'max_value': [0 for data in range(number_node_input)], 'min_value': [0 for data in range(number_node_input)]}\n",
    "    \n",
    "    for each_data in range(len(dataFrame.keys())):\n",
    "        if(dataFrame.keys()[each_data] != 'class'):\n",
    "            max_min_value['max_value'][each_data] = max(dataFrame[dataFrame.keys()[each_data]])\n",
    "            max_min_value['min_value'][each_data] = min(dataFrame[dataFrame.keys()[each_data]])\n",
    "\n",
    "\n",
    "\n",
    "\n",
    "\n",
    "# Shuffle row of dataFrame\n",
    "    index_of_data = dataFrame.index\n",
    "    dataFrame_after_shuffle = shuffle(dataFrame)\n",
    "    dataFrame_after_shuffle.index = index_of_data\n",
    "\n",
    "# Put data to list\n",
    "    list_of_data = []\n",
    "    for ID in dataFrame_after_shuffle.index.values:\n",
    "        data = []\n",
    "        for row in dataFrame_after_shuffle:\n",
    "            data.append(dataFrame_after_shuffle[row][ID])\n",
    "        list_of_data.append(data)\n",
    "\n",
    "# Change class value so it is norminal data to ordinal\n",
    "    for row_number in range(len(list_of_data)):\n",
    "        list_of_data[row_number].append(set_of_class.index(list_of_data[row_number].pop()))\n",
    "    \n",
    "\n",
    "# %% Data Normalization\n",
    "    for row in range(len(list_of_data)):\n",
    "        for column in range(number_node_input):\n",
    "            list_of_data[row][column] = normalized(list_of_data[row][column], max_min_value['max_value'][column], max_min_value['min_value'][column])\n",
    "    \n",
    "# %% Random Test Data in dataframe (20 % / class)\n",
    "    dataFrame_test = pd.DataFrame(columns=['x', 'y', 'z', 'w', 'class'])\n",
    "    for CLASS in set_of_class:\n",
    "        random_index = [ dataFrame[dataFrame['class'] == CLASS].index[randint(0, number_row_each_class[set_of_class.index(CLASS)]-1)] for number_row in range(math.ceil(number_row_each_class[set_of_class.index(CLASS)]*0.2))]\n",
    "        for random_row in random_index:\n",
    "            dataFrame_test = dataFrame_test.append(dataFrame.iloc[random_row].to_frame().T)\n",
    "            \n",
    "        \n",
    "                                                                                                             \n",
    "    print(dataFrame_test)\n",
    "# Define function normalization\n",
    "normalized = lambda x, maximum, minimum : (x - minimum * 0.95) / (maximum * 1.05 - minimum * 0.95)\n",
    "\n",
    "prepareData('iris', 4, 5, 0.1)"
   ]
  },
  {
   "cell_type": "code",
   "execution_count": null,
   "metadata": {},
   "outputs": [],
   "source": [
    "# %% Random Test Data in dataframe (20 % / class)\n",
    "    for CLASS in set_of_class:\n",
    "        for number_row in range(math.ceil(number_row_each_class[set_of_class.index(CLASS)]*0.2)):\n",
    "            dataFrame[]"
   ]
  },
  {
   "cell_type": "code",
   "execution_count": 8,
   "metadata": {},
   "outputs": [
    {
     "ename": "NameError",
     "evalue": "name 'dataFrame_test' is not defined",
     "output_type": "error",
     "traceback": [
      "\u001b[0;31m---------------------------------------------------------------------------\u001b[0m",
      "\u001b[0;31mNameError\u001b[0m                                 Traceback (most recent call last)",
      "\u001b[0;32m<ipython-input-8-369b0c5f71fd>\u001b[0m in \u001b[0;36m<module>\u001b[0;34m\u001b[0m\n\u001b[0;32m----> 1\u001b[0;31m \u001b[0mdataFrame_test\u001b[0m\u001b[0;34m\u001b[0m\u001b[0;34m\u001b[0m\u001b[0m\n\u001b[0m",
      "\u001b[0;31mNameError\u001b[0m: name 'dataFrame_test' is not defined"
     ]
    }
   ],
   "source": [
    "for selected_index in random_index:\n",
    "            dataFrame_test.concat(dataFrame[dataFrame['class'] == CLASS][])"
   ]
  },
  {
   "cell_type": "code",
   "execution_count": null,
   "metadata": {},
   "outputs": [],
   "source": [
    "print(dataFrame.loc[str(random_index[0])])"
   ]
  }
 ],
 "metadata": {
  "kernelspec": {
   "display_name": "Python 3",
   "language": "python",
   "name": "python3"
  },
  "language_info": {
   "codemirror_mode": {
    "name": "ipython",
    "version": 3
   },
   "file_extension": ".py",
   "mimetype": "text/x-python",
   "name": "python",
   "nbconvert_exporter": "python",
   "pygments_lexer": "ipython3",
   "version": "3.7.3"
  }
 },
 "nbformat": 4,
 "nbformat_minor": 2
}
