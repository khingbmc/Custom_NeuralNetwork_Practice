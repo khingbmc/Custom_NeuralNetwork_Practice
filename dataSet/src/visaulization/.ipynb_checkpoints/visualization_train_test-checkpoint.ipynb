{
 "cells": [
  {
   "cell_type": "code",
   "execution_count": 92,
   "metadata": {},
   "outputs": [],
   "source": [
    "import pandas as pd\n",
    "import numpy as np\n",
    "import matplotlib.pyplot as plt\n",
    "import ast\n",
    "import pygal"
   ]
  },
  {
   "cell_type": "code",
   "execution_count": 93,
   "metadata": {},
   "outputs": [],
   "source": [
    "f = open('../test_iris/test.txt', 'r')\n",
    "x = f.readlines()\n",
    "f.close()\n",
    "f = open('../test_iris/train.txt', 'r')\n",
    "y = f.readlines()\n",
    "f.close()"
   ]
  },
  {
   "cell_type": "code",
   "execution_count": 94,
   "metadata": {},
   "outputs": [],
   "source": [
    "test_data = np.array(ast.literal_eval(x[0]))\n",
    "train_data = np.array(ast.literal_eval(y[0]))"
   ]
  },
  {
   "cell_type": "code",
   "execution_count": 95,
   "metadata": {},
   "outputs": [],
   "source": [
    "df_train = pd.DataFrame(train_data, columns=['x', 'y', 'z', 'w', 'class'])\n",
    "df_test = pd.DataFrame(test_data, columns=['x', 'y', 'z', 'w', 'class'])"
   ]
  },
  {
   "cell_type": "code",
   "execution_count": 96,
   "metadata": {},
   "outputs": [],
   "source": [
    "train_class1 = df_train[df_train['class'] == 0]\n",
    "train_class2 = df_train[df_train['class'] == 1]\n",
    "train_class3 = df_train[df_train['class'] == 2]"
   ]
  },
  {
   "cell_type": "code",
   "execution_count": 97,
   "metadata": {},
   "outputs": [],
   "source": [
    "test_class1 = df_test[df_test['class'] == 0]\n",
    "test_class2 = df_test[df_test['class'] == 1]\n",
    "test_class3 = df_test[df_test['class'] == 2]"
   ]
  },
  {
   "cell_type": "code",
   "execution_count": 103,
   "metadata": {},
   "outputs": [],
   "source": [
    "subset1_train = train_class1[['x', 'y']]\n",
    "subset1_test = test_class1[['x', 'y']]\n",
    "\n",
    "subset2_train = train_class2[['x', 'y']]\n",
    "subset2_test = test_class2[['x', 'y']]\n",
    "\n",
    "subset3_train = train_class3[['x', 'y']]\n",
    "subset3_test = test_class3[['x', 'y']]\n"
   ]
  },
  {
   "cell_type": "code",
   "execution_count": 104,
   "metadata": {},
   "outputs": [],
   "source": [
    "tuples_train_1 = [tuple(x) for x in subset1_train.values]\n",
    "tuples_test_1 = [tuple(x) for x in subset1_test.values]\n",
    "\n",
    "tuples_train_2 = [tuple(x) for x in subset2_train.values]\n",
    "tuples_test_2 = [tuple(x) for x in subset2_test.values]\n",
    "\n",
    "tuples_train_3 = [tuple(x) for x in subset3_train.values]\n",
    "tuples_test_3 = [tuple(x) for x in subset3_test.values]"
   ]
  },
  {
   "cell_type": "code",
   "execution_count": 105,
   "metadata": {},
   "outputs": [],
   "source": [
    "train_test = pygal.XY(stroke=False)\n",
    "train_test.title = 'Data x y'\n",
    "train_test.add('Train', tuples_train_1)\n",
    "train_test.add('Test', tuples_test_1)\n",
    "train_test.render_to_file('train_test1.svg')"
   ]
  },
  {
   "cell_type": "code",
   "execution_count": 106,
   "metadata": {},
   "outputs": [],
   "source": [
    "train_test = pygal.XY(stroke=False)\n",
    "train_test.title = 'Data x y'\n",
    "train_test.add('Train', tuples_train_2)\n",
    "train_test.add('Test', tuples_test_2)\n",
    "train_test.render_to_file('train_test2.svg')"
   ]
  },
  {
   "cell_type": "code",
   "execution_count": 107,
   "metadata": {},
   "outputs": [],
   "source": [
    "train_test = pygal.XY(stroke=False)\n",
    "train_test.title = 'Data x y'\n",
    "train_test.add('Train', tuples_train_3)\n",
    "train_test.add('Test', tuples_test_3)\n",
    "train_test.render_to_file('train_test3.svg')"
   ]
  }
 ],
 "metadata": {
  "kernelspec": {
   "display_name": "Python 3",
   "language": "python",
   "name": "python3"
  },
  "language_info": {
   "codemirror_mode": {
    "name": "ipython",
    "version": 3
   },
   "file_extension": ".py",
   "mimetype": "text/x-python",
   "name": "python",
   "nbconvert_exporter": "python",
   "pygments_lexer": "ipython3",
   "version": "3.7.3"
  }
 },
 "nbformat": 4,
 "nbformat_minor": 2
}
